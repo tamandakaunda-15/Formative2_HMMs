{
  "nbformat": 4,
  "nbformat_minor": 0,
  "metadata": {
    "colab": {
      "provenance": [],
      "include_colab_link": true
    },
    "kernelspec": {
      "name": "python3",
      "display_name": "Python 3"
    },
    "language_info": {
      "name": "python"
    }
  },
  "cells": [
    {
      "cell_type": "markdown",
      "metadata": {
        "id": "view-in-github",
        "colab_type": "text"
      },
      "source": [
        "<a href=\"https://colab.research.google.com/github/tamandakaunda-15/Formative2_HMMs/blob/main/Hidden_Markov_Models.ipynb\" target=\"_parent\"><img src=\"https://colab.research.google.com/assets/colab-badge.svg\" alt=\"Open In Colab\"/></a>"
      ]
    },
    {
      "cell_type": "code",
      "execution_count": 1,
      "metadata": {
        "id": "sLcAviGPIzvh",
        "colab": {
          "base_uri": "https://localhost:8080/"
        },
        "outputId": "b099f584-4166-4d43-cc7b-61cf722d76e7"
      },
      "outputs": [
        {
          "output_type": "stream",
          "name": "stdout",
          "text": [
            "Collecting hmmlearn\n",
            "  Downloading hmmlearn-0.3.3-cp312-cp312-manylinux_2_17_x86_64.manylinux2014_x86_64.whl.metadata (3.0 kB)\n",
            "Requirement already satisfied: scikit-learn in /usr/local/lib/python3.12/dist-packages (1.6.1)\n",
            "Requirement already satisfied: numpy>=1.10 in /usr/local/lib/python3.12/dist-packages (from hmmlearn) (2.0.2)\n",
            "Requirement already satisfied: scipy>=0.19 in /usr/local/lib/python3.12/dist-packages (from hmmlearn) (1.16.3)\n",
            "Requirement already satisfied: joblib>=1.2.0 in /usr/local/lib/python3.12/dist-packages (from scikit-learn) (1.5.2)\n",
            "Requirement already satisfied: threadpoolctl>=3.1.0 in /usr/local/lib/python3.12/dist-packages (from scikit-learn) (3.6.0)\n",
            "Downloading hmmlearn-0.3.3-cp312-cp312-manylinux_2_17_x86_64.manylinux2014_x86_64.whl (165 kB)\n",
            "\u001b[2K   \u001b[90m━━━━━━━━━━━━━━━━━━━━━━━━━━━━━━━━━━━━━━━━\u001b[0m \u001b[32m166.0/166.0 kB\u001b[0m \u001b[31m2.3 MB/s\u001b[0m eta \u001b[36m0:00:00\u001b[0m\n",
            "\u001b[?25hInstalling collected packages: hmmlearn\n",
            "Successfully installed hmmlearn-0.3.3\n"
          ]
        }
      ],
      "source": [
        "!pip install hmmlearn scikit-learn\n",
        "\n",
        "import os\n",
        "import pandas as pd\n",
        "import numpy as np\n",
        "import re\n",
        "from scipy.stats import pearsonr\n",
        "from scipy.fft import fft, fftfreq\n",
        "from sklearn.preprocessing import StandardScaler\n",
        "from hmmlearn import hmm\n",
        "from sklearn.model_selection import train_test_split\n",
        "from sklearn.metrics import confusion_matrix\n",
        "import matplotlib.pyplot as plt"
      ]
    },
    {
      "cell_type": "code",
      "source": [
        "from google.colab import drive\n",
        "drive.mount('/content/drive')"
      ],
      "metadata": {
        "colab": {
          "base_uri": "https://localhost:8080/"
        },
        "id": "ja1f1yieEAh3",
        "outputId": "12dc54dc-cb47-44ad-e4ea-fa6a14cf4403"
      },
      "execution_count": 2,
      "outputs": [
        {
          "output_type": "stream",
          "name": "stdout",
          "text": [
            "Mounted at /content/drive\n"
          ]
        }
      ]
    },
    {
      "cell_type": "code",
      "source": [
        "DRIVE_PATH = '/content/drive/MyDrive/Formative_2/HMM_Project_Data_UNPROCESSED/'\n",
        "\n",
        "print(f\"\\nConfiguration complete. Data will be loaded from: {DRIVE_PATH}\")"
      ],
      "metadata": {
        "colab": {
          "base_uri": "https://localhost:8080/"
        },
        "id": "67mCh1zOGGkP",
        "outputId": "a8740b95-caeb-42a5-89f4-96baaedbefa4"
      },
      "execution_count": 3,
      "outputs": [
        {
          "output_type": "stream",
          "name": "stdout",
          "text": [
            "\n",
            "Configuration complete. Data will be loaded from: /content/drive/MyDrive/Formative_2/HMM_Project_Data_UNPROCESSED/\n"
          ]
        }
      ]
    },
    {
      "cell_type": "markdown",
      "source": [
        "##Feature Extraction"
      ],
      "metadata": {
        "id": "DVLtE8pSGRTz"
      }
    },
    {
      "cell_type": "code",
      "source": [
        "#  Feature Extraction Functions\n",
        "\n",
        "WINDOW_SIZE_HZ = 100 # sampling rate of 100 Hz\n",
        "\n",
        "def extract_features(merged_df):\n",
        "    \"\"\"\n",
        "    Extracts 19 key features from a single merged 10-second sample.\n",
        "    (Time-Domain, Magnitude, Correlation, Frequency-Domain)\n",
        "    \"\"\"\n",
        "    features = {}\n",
        "\n",
        "    accel_cols = ['Acc_x', 'Acc_y', 'Acc_z']\n",
        "    gyro_cols = ['Gyro_x', 'Gyro_y', 'Gyro_z']\n",
        "    all_cols = accel_cols + gyro_cols\n",
        "\n",
        "    df = merged_df.copy()\n",
        "    N = len(df)\n",
        "\n",
        "    if N == 0:\n",
        "        # Handle empty DataFrame case (return zeros)\n",
        "        feature_names = [f'{c}_mean' for c in all_cols] + [f'{c}_std' for c in all_cols] + \\\n",
        "                        ['SMA', 'Acc_xy_corr', 'Acc_xz_corr', 'Acc_yz_corr'] + \\\n",
        "                        [f'{c}_dom_freq' for c in all_cols]\n",
        "        return pd.Series(0.0, index=feature_names)\n",
        "\n",
        "    # 1. Time-Domain Features (Mean, Standard Deviation)\n",
        "    for col in all_cols:\n",
        "        features[f'{col}_mean'] = df[col].mean()\n",
        "        features[f'{col}_std'] = df[col].std()\n",
        "\n",
        "    # 2. Combined/Magnitude Features\n",
        "    df['Acc_Mag'] = np.sqrt(df['Acc_x']**2 + df['Acc_y']**2 + df['Acc_z']**2)\n",
        "    features['SMA'] = df['Acc_Mag'].abs().mean()\n",
        "\n",
        "    # 3. Correlation between Accelerometer Axes\n",
        "    try:\n",
        "        features['Acc_xy_corr'] = pearsonr(df['Acc_x'], df['Acc_y'])[0]\n",
        "        features['Acc_xz_corr'] = pearsonr(df['Acc_x'], df['Acc_z'])[0]\n",
        "        features['Acc_yz_corr'] = pearsonr(df['Acc_y'], df['Acc_z'])[0]\n",
        "    except ValueError:\n",
        "        features['Acc_xy_corr'] = 0.0\n",
        "        features['Acc_xz_corr'] = 0.0\n",
        "        features['Acc_yz_corr'] = 0.0\n",
        "\n",
        "    # 4. Frequency-Domain Features (Dominant Frequency)\n",
        "    for col in all_cols:\n",
        "        signal = df[col].values\n",
        "        yf = fft(signal)\n",
        "        power_spectrum = np.abs(yf[:N//2])**2\n",
        "        xf = fftfreq(N, 1/WINDOW_SIZE_HZ)[:N//2]\n",
        "\n",
        "        # Dominant Frequency (skip DC component)\n",
        "        if len(power_spectrum) > 1:\n",
        "            dominant_freq_index = np.argmax(power_spectrum[1:]) + 1\n",
        "            features[f'{col}_dom_freq'] = xf[dominant_freq_index]\n",
        "        else:\n",
        "            features[f'{col}_dom_freq'] = 0.0\n",
        "\n",
        "    return pd.Series(features)\n",
        "\n",
        "def process_all_samples(base_dir):\n",
        "    \"\"\"Loads, merges, extracts features, and normalizes the entire dataset.\"\"\"\n",
        "    all_features = []\n",
        "    all_labels = []\n",
        "\n",
        "    activities = ['standing', 'walking', 'jumping', 'still']\n",
        "\n",
        "    for item_name in os.listdir(base_dir):\n",
        "        folder_path = os.path.join(base_dir, item_name)\n",
        "\n",
        "        if os.path.isdir(folder_path):\n",
        "\n",
        "            # Individual Activity Label Extraction\n",
        "            name = item_name.lower()\n",
        "            label = None\n",
        "            for act in activities:\n",
        "                match = re.search(r'^{}|[_-]{}'.format(act, act), name)\n",
        "                if match:\n",
        "                    label = act.capitalize()\n",
        "                    break\n",
        "\n",
        "            if label is None:\n",
        "                continue\n",
        "\n",
        "            #  Loading and Merging CSVs (Accelerometer and Gyroscope) for each activity sample\n",
        "            try:\n",
        "                accel_path = os.path.join(folder_path, 'Accelerometer.csv')\n",
        "                gyro_path = os.path.join(folder_path, 'Gyroscope.csv')\n",
        "\n",
        "                # Load and rename columns\n",
        "                accel_df = pd.read_csv(accel_path).rename(columns={'x': 'Acc_x', 'y': 'Acc_y', 'z': 'Acc_z'})\n",
        "                gyro_df = pd.read_csv(gyro_path).rename(columns={'x': 'Gyro_x', 'y': 'Gyro_y', 'z': 'Gyro_z'})\n",
        "\n",
        "                # MERGING THE 2 CVS into dataframes\n",
        "                merged_df = pd.merge(accel_df, gyro_df, on=['time', 'seconds_elapsed'], how='inner')\n",
        "\n",
        "                # Feature Extraction\n",
        "                features = extract_features(merged_df)\n",
        "\n",
        "                all_features.append(features)\n",
        "                all_labels.append(label)\n",
        "\n",
        "            except FileNotFoundError:\n",
        "                print(f\"Skipping: Missing files in {item_name}\")\n",
        "            except Exception as e:\n",
        "                print(f\"Skipping: Error processing {item_name}: {e}\")\n",
        "\n",
        "    feature_matrix = pd.DataFrame(all_features)\n",
        "    label_series = pd.Series(all_labels, name='Activity_Label')\n",
        "\n",
        "    # --- Feature Normalization (Z-score standardisation) ---\n",
        "    scaler = StandardScaler()\n",
        "    normalized_features = scaler.fit_transform(feature_matrix)\n",
        "    normalized_df = pd.DataFrame(normalized_features, columns=feature_matrix.columns)\n",
        "\n",
        "    return normalized_df, label_series"
      ],
      "metadata": {
        "id": "WJPbc_6fGQav"
      },
      "execution_count": 4,
      "outputs": []
    },
    {
      "cell_type": "code",
      "source": [
        "# Run the full processing pipeline\n",
        "feature_matrix, activity_labels = process_all_samples(DRIVE_PATH)\n",
        "\n",
        "print(f\"Successfully processed {len(feature_matrix)} total samples.\")\n",
        "print(\"Feature Matrix Shape:\", feature_matrix.shape)\n",
        "print(\"\\nActivity Distribution:\")\n",
        "print(activity_labels.value_counts())\n",
        "\n"
      ],
      "metadata": {
        "colab": {
          "base_uri": "https://localhost:8080/"
        },
        "id": "zQF5mnNsHEHi",
        "outputId": "57b26650-dcb8-445d-bc1a-cd643bf80689"
      },
      "execution_count": 5,
      "outputs": [
        {
          "output_type": "stream",
          "name": "stdout",
          "text": [
            "Successfully processed 51 total samples.\n",
            "Feature Matrix Shape: (51, 22)\n",
            "\n",
            "Activity Distribution:\n",
            "Activity_Label\n",
            "Walking     16\n",
            "Standing    12\n",
            "Still       12\n",
            "Jumping     11\n",
            "Name: count, dtype: int64\n"
          ]
        }
      ]
    },
    {
      "cell_type": "markdown",
      "source": [
        "## Defining Model Components"
      ],
      "metadata": {
        "id": "v3cFdlQHJvaw"
      }
    },
    {
      "cell_type": "code",
      "source": [
        "# Cell 1: Prepare All Data for Training\n",
        "\n",
        "# Use ALL samples for training (no split)\n",
        "X_train_all = feature_matrix.values\n",
        "y_train_labels = activity_labels.values\n",
        "\n",
        "# Create label mapping\n",
        "label_map = {name: i for i, name in enumerate(activity_labels.unique())}\n",
        "reverse_label_map = {v: k for k, v in label_map.items()}\n",
        "\n",
        "print(f\"Training with ALL {len(X_train_all)} samples\")\n",
        "print(f\"Number of features: {X_train_all.shape[1]}\")\n",
        "print(f\"\\nActivity distribution:\")\n",
        "print(activity_labels.value_counts())\n",
        "print(f\"\\nLabel mapping: {label_map}\")"
      ],
      "metadata": {
        "id": "v9IY19mjHbBp",
        "colab": {
          "base_uri": "https://localhost:8080/"
        },
        "outputId": "86f1ff0a-369b-4167-a9a2-ad4220d6a78b"
      },
      "execution_count": 6,
      "outputs": [
        {
          "output_type": "stream",
          "name": "stdout",
          "text": [
            "Training with ALL 51 samples\n",
            "Number of features: 22\n",
            "\n",
            "Activity distribution:\n",
            "Activity_Label\n",
            "Walking     16\n",
            "Standing    12\n",
            "Still       12\n",
            "Jumping     11\n",
            "Name: count, dtype: int64\n",
            "\n",
            "Label mapping: {'Jumping': 0, 'Standing': 1, 'Walking': 2, 'Still': 3}\n"
          ]
        }
      ]
    },
    {
      "cell_type": "markdown",
      "source": [
        "## Building Model"
      ],
      "metadata": {
        "id": "mDslbHlXiCiI"
      }
    },
    {
      "cell_type": "code",
      "source": [
        "# Cell 2: Initialize and Train HMM Model\n",
        "\n",
        "n_states = len(label_map)\n",
        "n_features = X_train_all.shape[1]\n",
        "\n",
        "print(f\"\\nTraining Gaussian HMM...\")\n",
        "print(f\"  - Hidden states: {n_states}\")\n",
        "print(f\"  - Features: {n_features}\")\n",
        "print(f\"  - Training samples: {len(X_train_all)}\")\n",
        "\n",
        "# Initialize and train model\n",
        "model = hmm.GaussianHMM(\n",
        "    n_components=n_states,\n",
        "    covariance_type=\"diag\",\n",
        "    n_iter=100,\n",
        "    tol=1e-4,\n",
        "    random_state=42,\n",
        "    verbose=True\n",
        ")\n",
        "\n",
        "# Train using Baum-Welch\n",
        "model.fit(X_train_all)\n",
        "\n",
        "print(\"\\n✓ Training Complete!\")\n",
        "print(f\"  - Final log-likelihood: {model.score(X_train_all):.2f}\")\n",
        "print(f\"  - Converged: {model.monitor_.converged}\")\n",
        "print(f\"  - Iterations: {model.monitor_.iter}\")"
      ],
      "metadata": {
        "colab": {
          "base_uri": "https://localhost:8080/"
        },
        "id": "__ZKjighlJmv",
        "outputId": "40e90ca8-37f0-443d-b7df-933cce0080b7"
      },
      "execution_count": 7,
      "outputs": [
        {
          "output_type": "stream",
          "name": "stdout",
          "text": [
            "\n",
            "Training Gaussian HMM...\n",
            "  - Hidden states: 4\n",
            "  - Features: 22\n",
            "  - Training samples: 51\n",
            "\n",
            "✓ Training Complete!\n",
            "  - Final log-likelihood: 291.52\n",
            "  - Converged: True\n",
            "  - Iterations: 9\n"
          ]
        },
        {
          "output_type": "stream",
          "name": "stderr",
          "text": [
            "         1   -1471.45110322             +nan\n",
            "         2     -36.90493191   +1434.54617131\n",
            "         3     277.01591126    +313.92084317\n",
            "         4     284.23724339      +7.22133213\n",
            "         5     285.88178685      +1.64454346\n",
            "         6     289.92606578      +4.04427893\n",
            "         7     291.50045447      +1.57438869\n",
            "         8     291.51889804      +0.01844357\n",
            "         9     291.51896277      +0.00006473\n"
          ]
        }
      ]
    },
    {
      "cell_type": "code",
      "source": [
        "# Cell 3: Visualize HMM Parameters\n",
        "\n",
        "# Extract parameters\n",
        "transition_matrix = model.transmat_\n",
        "initial_probs = model.startprob_\n",
        "emission_means = model.means_\n",
        "\n",
        "# Display initial probabilities\n",
        "print(\"Initial State Probabilities (π):\")\n",
        "for state_num, prob in enumerate(initial_probs):\n",
        "    print(f\"  {reverse_label_map[state_num]}: {prob:.4f}\")\n",
        "\n",
        "# Create visualizations\n",
        "fig, axes = plt.subplots(1, 2, figsize=(16, 5))\n",
        "\n",
        "# 1. Transition Matrix Heatmap\n",
        "sns.heatmap(transition_matrix, annot=True, fmt='.3f', cmap='YlOrRd',\n",
        "            xticklabels=list(reverse_label_map.values()),\n",
        "            yticklabels=list(reverse_label_map.values()),\n",
        "            ax=axes[0], cbar_kws={'label': 'Probability'})\n",
        "axes[0].set_title('Transition Probability Matrix', fontweight='bold', fontsize=12)\n",
        "axes[0].set_xlabel('To State')\n",
        "axes[0].set_ylabel('From State')\n",
        "\n",
        "# 2. Emission Means\n",
        "emission_df = pd.DataFrame(emission_means.T,\n",
        "                           columns=list(reverse_label_map.values()))\n",
        "sns.heatmap(emission_df, cmap='coolwarm', center=0, ax=axes[1],\n",
        "            cbar_kws={'label': 'Normalized Value'})\n",
        "axes[1].set_title('Emission Probability Means (Features per State)',\n",
        "                  fontweight='bold', fontsize=12)\n",
        "axes[1].set_xlabel('Activity State')\n",
        "axes[1].set_ylabel('Feature Index')\n",
        "\n",
        "plt.tight_layout()\n",
        "plt.show()"
      ],
      "metadata": {
        "colab": {
          "base_uri": "https://localhost:8080/",
          "height": 687
        },
        "id": "8jTK0Ydcmgpz",
        "outputId": "c76fcbd4-28f2-4174-8a29-258cd22dd567"
      },
      "execution_count": 13,
      "outputs": [
        {
          "output_type": "stream",
          "name": "stdout",
          "text": [
            "Initial State Probabilities (π):\n",
            "  Jumping: 1.0000\n",
            "  Standing: 0.0000\n",
            "  Walking: 0.0000\n",
            "  Still: 0.0000\n"
          ]
        },
        {
          "output_type": "error",
          "ename": "NameError",
          "evalue": "name 'sns' is not defined",
          "traceback": [
            "\u001b[0;31m---------------------------------------------------------------------------\u001b[0m",
            "\u001b[0;31mNameError\u001b[0m                                 Traceback (most recent call last)",
            "\u001b[0;32m/tmp/ipython-input-3015613046.py\u001b[0m in \u001b[0;36m<cell line: 0>\u001b[0;34m()\u001b[0m\n\u001b[1;32m     15\u001b[0m \u001b[0;34m\u001b[0m\u001b[0m\n\u001b[1;32m     16\u001b[0m \u001b[0;31m# 1. Transition Matrix Heatmap\u001b[0m\u001b[0;34m\u001b[0m\u001b[0;34m\u001b[0m\u001b[0m\n\u001b[0;32m---> 17\u001b[0;31m sns.heatmap(transition_matrix, annot=True, fmt='.3f', cmap='YlOrRd',\n\u001b[0m\u001b[1;32m     18\u001b[0m             \u001b[0mxticklabels\u001b[0m\u001b[0;34m=\u001b[0m\u001b[0mlist\u001b[0m\u001b[0;34m(\u001b[0m\u001b[0mreverse_label_map\u001b[0m\u001b[0;34m.\u001b[0m\u001b[0mvalues\u001b[0m\u001b[0;34m(\u001b[0m\u001b[0;34m)\u001b[0m\u001b[0;34m)\u001b[0m\u001b[0;34m,\u001b[0m\u001b[0;34m\u001b[0m\u001b[0;34m\u001b[0m\u001b[0m\n\u001b[1;32m     19\u001b[0m             \u001b[0myticklabels\u001b[0m\u001b[0;34m=\u001b[0m\u001b[0mlist\u001b[0m\u001b[0;34m(\u001b[0m\u001b[0mreverse_label_map\u001b[0m\u001b[0;34m.\u001b[0m\u001b[0mvalues\u001b[0m\u001b[0;34m(\u001b[0m\u001b[0;34m)\u001b[0m\u001b[0;34m)\u001b[0m\u001b[0;34m,\u001b[0m\u001b[0;34m\u001b[0m\u001b[0;34m\u001b[0m\u001b[0m\n",
            "\u001b[0;31mNameError\u001b[0m: name 'sns' is not defined"
          ]
        },
        {
          "output_type": "display_data",
          "data": {
            "text/plain": [
              "<Figure size 1600x500 with 2 Axes>"
            ],
            "image/png": "[encoded data removed]"
          },
          "metadata": {}
        }
      ]
    },
    {
      "cell_type": "code",
      "source": [
        "# Cell 4: Apply Viterbi Algorithm (Training Data Validation)\n",
        "\n",
        "# Decode using Viterbi\n",
        "logprob, predicted_states = model.decode(X_train_all, algorithm='viterbi')\n",
        "\n",
        "print(f\"Viterbi Decoding Results:\")\n",
        "print(f\"  - Log-probability: {logprob:.2f}\")\n",
        "print(f\"  - Decoded {len(predicted_states)} samples\")\n",
        "\n",
        "# Visualize decoded sequence\n",
        "plt.figure(figsize=(16, 4))\n",
        "plt.plot(predicted_states, marker='o', linestyle='-', markersize=2,\n",
        "         linewidth=0.5, alpha=0.7)\n",
        "plt.yticks(range(n_states), list(reverse_label_map.values()))\n",
        "plt.xlabel('Sample Index', fontsize=11)\n",
        "plt.ylabel('Predicted Activity', fontsize=11)\n",
        "plt.title('Viterbi Decoded Activity Sequence (Training Data)',\n",
        "          fontsize=13, fontweight='bold')\n",
        "plt.grid(axis='y', alpha=0.3)\n",
        "plt.tight_layout()\n",
        "plt.show()"
      ],
      "metadata": {
        "colab": {
          "base_uri": "https://localhost:8080/",
          "height": 356
        },
        "id": "nZZyBFMfmjXR",
        "outputId": "1f71c864-7b84-499a-9af8-282fa8defe92"
      },
      "execution_count": 11,
      "outputs": [
        {
          "output_type": "stream",
          "name": "stdout",
          "text": [
            "Viterbi Decoding Results:\n",
            "  - Log-probability: 291.52\n",
            "  - Decoded 51 samples\n"
          ]
        },
        {
          "output_type": "display_data",
          "data": {
            "text/plain": [
              "<Figure size 1600x400 with 1 Axes>"
            ],
            "image/png": "[encoded data removed]"
          },
          "metadata": {}
        }
      ]
    },
    {
      "cell_type": "markdown",
      "source": [
        "## Model Evaluation"
      ],
      "metadata": {
        "id": "4qj7AKZlxnTn"
      }
    },
    {
      "cell_type": "code",
      "source": [
        "# Cell 5: Load and Evaluate New Test Data\n",
        "\n",
        "def load_and_evaluate_test_data(test_folders, model, label_map, reverse_label_map):\n",
        "    \"\"\"\n",
        "    Load new test samples, extract features, predict, and evaluate.\n",
        "\n",
        "    Parameters:\n",
        "    -----------\n",
        "    test_folders : list of tuples\n",
        "        Each tuple: (folder_path, true_activity_label)\n",
        "        Example: [('/path/to/test1', 'Walking'), ('/path/to/test2', 'Jumping')]\n",
        "    \"\"\"\n",
        "    test_features = []\n",
        "    test_labels = []\n",
        "\n",
        "    print(f\"Loading {len(test_folders)} test samples...\\n\")\n",
        "\n",
        "    for folder_path, true_label in test_folders:\n",
        "        try:\n",
        "            # Load CSVs\n",
        "            accel_path = os.path.join(folder_path, 'Accelerometer.csv')\n",
        "            gyro_path = os.path.join(folder_path, 'Gyroscope.csv')\n",
        "\n",
        "            accel_df = pd.read_csv(accel_path).rename(columns={\n",
        "                'x': 'Acc_x', 'y': 'Acc_y', 'z': 'Acc_z'\n",
        "            })\n",
        "            gyro_df = pd.read_csv(gyro_path).rename(columns={\n",
        "                'x': 'Gyro_x', 'y': 'Gyro_y', 'z': 'Gyro_z'\n",
        "            })\n",
        "\n",
        "            # Merge and extract features\n",
        "            merged_df = pd.merge(accel_df, gyro_df,\n",
        "                                on=['time', 'seconds_elapsed'], how='inner')\n",
        "            features = extract_features(merged_df)\n",
        "\n",
        "            test_features.append(features)\n",
        "            test_labels.append(true_label)\n",
        "\n",
        "            print(f\"✓ Loaded: {os.path.basename(folder_path)} ({true_label})\")\n",
        "\n",
        "        except Exception as e:\n",
        "            print(f\"✗ Error loading {folder_path}: {e}\")\n",
        "\n",
        "    if len(test_features) == 0:\n",
        "        print(\"\\n⚠ No test data loaded!\")\n",
        "        return None, None, None, None\n",
        "\n",
        "    # Convert to arrays\n",
        "    X_test = np.array(test_features)\n",
        "    y_test_names = np.array(test_labels)\n",
        "    y_test_num = np.array([label_map[label] for label in y_test_names])\n",
        "\n",
        "    # Predict using Viterbi\n",
        "    _, y_pred = model.decode(X_test, algorithm='viterbi')\n",
        "\n",
        "    print(f\"\\n✓ Prediction complete: {len(y_pred)} samples\")\n",
        "\n",
        "    return X_test, y_test_num, y_pred, y_test_names\n",
        "\n",
        "\n",
        "# ============================================================================\n",
        "# CONFIGURE YOUR TEST DATA HERE\n",
        "# ============================================================================\n",
        "# Format: (folder_path, true_activity_label)\n",
        "\n",
        "TEST_DATA = [\n",
        "    # Example format - UPDATE WITH YOUR ACTUAL PATHS:\n",
        "    # ('/content/drive/MyDrive/Test_Data/walking_test_1', 'Walking'),\n",
        "    # ('/content/drive/MyDrive/Test_Data/jumping_test_1', 'Jumping'),\n",
        "    # ('/content/drive/MyDrive/Test_Data/standing_test_1', 'Standing'),\n",
        "    # ('/content/drive/MyDrive/Test_Data/still_test_1', 'Still'),\n",
        "]\n",
        "\n",
        "# Run evaluation when test data is available\n",
        "if len(TEST_DATA) > 0:\n",
        "    X_test, y_test_num, y_pred, y_test_names = load_and_evaluate_test_data(\n",
        "        TEST_DATA, model, label_map, reverse_label_map\n",
        "    )\n",
        "else:\n",
        "    print(\"⚠ No test data configured. Update TEST_DATA list above.\")\n",
        "    print(\"\\nSee instructions below for how to structure your test data.\")"
      ],
      "metadata": {
        "id": "VQcjNPDSmnbX"
      },
      "execution_count": null,
      "outputs": []
    },
    {
      "cell_type": "code",
      "source": [
        "# Cell 6: Calculate Performance Metrics\n",
        "\n",
        "if len(TEST_DATA) > 0 and y_test_num is not None:\n",
        "\n",
        "    # Calculate confusion matrix\n",
        "    cm = confusion_matrix(y_test_num, y_pred)\n",
        "\n",
        "    # Calculate metrics per class\n",
        "    metrics = []\n",
        "    for i in range(n_states):\n",
        "        TP = cm[i, i]\n",
        "        FN = cm[i, :].sum() - TP\n",
        "        FP = cm[:, i].sum() - TP\n",
        "        TN = cm.sum() - (TP + FN + FP)\n",
        "\n",
        "        sensitivity = TP / (TP + FN) if (TP + FN) > 0 else 0.0\n",
        "        specificity = TN / (TN + FP) if (TN + FP) > 0 else 0.0\n",
        "        accuracy = (TP + TN) / cm.sum()\n",
        "\n",
        "        metrics.append({\n",
        "            'State (Activity)': reverse_label_map[i],\n",
        "            'Number of Samples': int(cm[i, :].sum()),\n",
        "            'Sensitivity': f\"{sensitivity:.4f}\",\n",
        "            'Specificity': f\"{specificity:.4f}\",\n",
        "            'Overall Accuracy': f\"{accuracy:.4f}\"\n",
        "        })\n",
        "\n",
        "    metrics_df = pd.DataFrame(metrics)\n",
        "\n",
        "    # Display results\n",
        "    print(\"=\"*80)\n",
        "    print(\"MODEL EVALUATION ON UNSEEN DATA\")\n",
        "    print(\"=\"*80)\n",
        "    print(metrics_df.to_string(index=False))\n",
        "\n",
        "    overall_acc = (y_pred == y_test_num).mean()\n",
        "    print(f\"\\n{'='*80}\")\n",
        "    print(f\"OVERALL ACCURACY: {overall_acc:.4f} ({overall_acc*100:.2f}%)\")\n",
        "    print(f\"{'='*80}\")\n",
        "\n",
        "    # Visualize confusion matrix\n",
        "    fig, axes = plt.subplots(1, 2, figsize=(15, 5))\n",
        "\n",
        "    # Confusion Matrix\n",
        "    sns.heatmap(cm, annot=True, fmt='d', cmap='Blues',\n",
        "                xticklabels=list(reverse_label_map.values()),\n",
        "                yticklabels=list(reverse_label_map.values()),\n",
        "                ax=axes[0], cbar_kws={'label': 'Count'})\n",
        "    axes[0].set_title('Confusion Matrix', fontweight='bold')\n",
        "    axes[0].set_xlabel('Predicted')\n",
        "    axes[0].set_ylabel('Actual')\n",
        "\n",
        "    # Prediction visualization\n",
        "    x_pos = np.arange(len(y_pred))\n",
        "    axes[1].scatter(x_pos, y_test_num, label='Actual', s=100, alpha=0.6, marker='o')\n",
        "    axes[1].scatter(x_pos, y_pred, label='Predicted', s=100, alpha=0.6, marker='x')\n",
        "    axes[1].set_yticks(range(n_states))\n",
        "    axes[1].set_yticklabels(list(reverse_label_map.values()))\n",
        "    axes[1].set_xlabel('Test Sample Index')\n",
        "    axes[1].set_ylabel('Activity')\n",
        "    axes[1].set_title('Actual vs Predicted Activities', fontweight='bold')\n",
        "    axes[1].legend()\n",
        "    axes[1].grid(alpha=0.3)\n",
        "\n",
        "    plt.tight_layout()\n",
        "    plt.show()\n",
        "\n",
        "    # Classification report\n",
        "    print(\"\\nDetailed Classification Report:\")\n",
        "    print(classification_report(y_test_num, y_pred,\n",
        "                                target_names=list(reverse_label_map.values())))\n",
        "else:\n",
        "    print(\"Configure TEST_DATA in Cell 5 to run evaluation\")"
      ],
      "metadata": {
        "id": "n0xHoLdNmsEe"
      },
      "execution_count": null,
      "outputs": []
    }
  ]
}